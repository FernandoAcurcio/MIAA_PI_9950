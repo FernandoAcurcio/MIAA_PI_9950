{
 "cells": [
  {
   "attachments": {},
   "cell_type": "markdown",
   "metadata": {},
   "source": [
    "# Introduction\n",
    "\n",
    "\n",
    "The efficient scheduling of classes in Higher Education Institutions (HEIs) is crucial for ensuring optimal resource utilization and a seamless learning experience. However, manual scheduling processes are prone to errors and often fail to account for complex interdependencies between factors such as teacher availability, classroom capacities, and course requirements. To address these challenges, this project focuses on developing an automated scheduling system using advanced computational tools. By leveraging optimization techniques and prescriptive analysis, the system aims to generate conflict-free schedules that meet all established criteria, fostering a harmonized educational environment and enhancing the overall efficiency of HEI operations."
   ]
  },
  {
   "attachments": {},
   "cell_type": "markdown",
   "metadata": {},
   "source": [
    "# Main Objectives\n",
    "\n",
    "1. The main objective is to create an automated system for generating schedules in an HEI.<br>\n",
    "2. The system should optimize the allocation of resources such as physical spaces and teaching schedules to meet the needs of students and faculty.<br>\n",
    "3. It should aim to avoid conflicts and unwanted overlaps in schedules.<br>\n",
    "4. The solution should employ optimization techniques and prescriptive analysis to ensure the harmonization and effectiveness of schedules.<br>\n",
    "\n"
   ]
  },
  {
   "attachments": {},
   "cell_type": "markdown",
   "metadata": {},
   "source": [
    "# Instalations\n",
    "\n",
    "Installed Pyomo using the pip command. Faced difficulties installing the GLPK library, only managing to install it using Anaconda. That's why I had to specify the directory in the solver.</br>\n",
    "<i>pip install pyomo</I>\n",
    "<i>conda install -c conda-forge glpk</i>"
   ]
  },
  {
   "attachments": {},
   "cell_type": "markdown",
   "metadata": {},
   "source": [
    "# Problem Definition\n",
    "\n",
    "In formulating this problem, I established some basic rules. The class schedule will span from 09:00 AM to 6:00 PM, Monday through Friday, thereby simulating a typical class schedule at IPCA. With these constraints, we have:\n",
    "\n",
    "No more than 8 hours of classes per day;</br>\n",
    "Students must have at least one morning or afternoon free.</br>\n",
    "This translation and revision are prepared for presentation to a teacher as part of a project."
   ]
  },
  {
   "attachments": {},
   "cell_type": "markdown",
   "metadata": {},
   "source": [
    "# Importing necessary libraries\n",
    "\n",
    "Pyomo is self explanatorie, but I'm also using a json library because I'm importing all my data from json files."
   ]
  },
  {
   "cell_type": "code",
   "execution_count": 1,
   "metadata": {},
   "outputs": [],
   "source": [
    "# Import necessary libraries and modules\n",
    "from pyomo.environ import *\n",
    "import json"
   ]
  },
  {
   "attachments": {},
   "cell_type": "markdown",
   "metadata": {},
   "source": [
    "Function that loads my files and respective variables that will hold the data."
   ]
  },
  {
   "cell_type": "code",
   "execution_count": 2,
   "metadata": {},
   "outputs": [],
   "source": [
    "# Function to load JSON data from a file\n",
    "def load_json_data(filename):\n",
    "    \"\"\"Loads data from a JSON file and returns it.\"\"\"\n",
    "    with open(filename, 'r') as file:\n",
    "        return json.load(file)\n",
    "\n",
    "# Load data from JSON files\n",
    "classroom_data = load_json_data('Data/classrooms.json')\n",
    "time_slots_data = load_json_data('Data/time_slots.json')\n",
    "lessons_data = load_json_data('Data/lessons.json')\n",
    "teachers_data = load_json_data('Data/teachers.json')\n",
    "cohorts_data = load_json_data('Data/cohorts.json')"
   ]
  },
  {
   "attachments": {},
   "cell_type": "markdown",
   "metadata": {},
   "source": [
    "# Model Creation\n",
    "\n",
    "I've created a Pyomo ConcreteModel to formulate my optimization problem. Then, I've defined sets for teachers, lessons, days, and time slots based on the given data. I've also included classrooms as a set.\n",
    "\n",
    "For decision variables, I've defined classroom_assignment to represent whether a lesson is assigned to a specific classroom at a certain day and time slot. Additionally, I've defined schedule variables to indicate whether a teacher is scheduled to teach a lesson on a particular day and time slot. Both variables are binary decision variables."
   ]
  },
  {
   "cell_type": "code",
   "execution_count": 3,
   "metadata": {},
   "outputs": [],
   "source": [
    "# Initialize the optimization model\n",
    "model = ConcreteModel()\n",
    "\n",
    "# Process classroom and time slot data for use in the model\n",
    "classrooms_data = {classroom['code']: classroom['seats'] for classroom in classroom_data['classrooms']}\n",
    "classrooms = set(classrooms_data.keys())\n",
    "time_slots = {slot['id'] for slot in time_slots_data['time_slots']}\n",
    "classroom_names = {classroom['code']: classroom['name'] for classroom in classroom_data['classrooms']}\n",
    "time_slot_periods = {slot['id']: slot['period'] for slot in time_slots_data['time_slots']}\n",
    "\n",
    "# Process new data structures: lessons, teachers, and cohorts\n",
    "lessons = {lesson['code']: lesson for lesson in lessons_data['lessons']}\n",
    "teachers = {teacher['name']: teacher for teacher in teachers_data['teachers']}\n",
    "cohorts = {cohort['name']: cohort for cohort in cohorts_data['cohorts']}\n",
    "\n",
    "# Extend model sets to include lessons, teachers, and cohorts\n",
    "model.lessons = Set(initialize=lessons.keys())\n",
    "model.teachers = Set(initialize=teachers.keys())\n",
    "model.cohorts = Set(initialize=cohorts.keys())\n",
    "\n",
    "# Assuming each time slot represents 2 hours\n",
    "time_slot_duration = 2\n",
    "\n",
    "# Calculate the number of required time slots for each lesson\n",
    "required_time_slots = {lesson_code: lesson['hours'] // time_slot_duration \n",
    "                       for lesson_code, lesson in lessons.items()}\n",
    "\n",
    "# Define decision variables for scheduling\n",
    "model.schedule = Var(model.lessons, classrooms, time_slots, within=Binary)\n",
    "\n",
    "# Define parameters and mappings\n",
    "required_time_slots = {lesson['code']: lesson['hours'] // 2 for lesson in lessons_data['lessons']}  # Assuming 2 hours per time slot\n",
    "lessons_to_cohorts = {lesson['code']: [] for lesson in lessons_data['lessons']}\n",
    "\n",
    "# Mapping of cohort names to the lessons they are taking\n",
    "cohort_lessons_mapping = {cohort: set() for cohort in cohorts}\n",
    "for lesson_code, cohorts_list in lessons_to_cohorts.items():\n",
    "    for cohort_name in cohorts_list:\n",
    "        cohort_lessons_mapping[cohort_name].add(lesson_code)"
   ]
  },
  {
   "attachments": {},
   "cell_type": "markdown",
   "metadata": {},
   "source": [
    "# Constraints\n",
    "\n",
    "Next I will define my constraints, to ensure the scheduling optimization problem adheres to specific rules and preferences."
   ]
  },
  {
   "cell_type": "code",
   "execution_count": 4,
   "metadata": {},
   "outputs": [],
   "source": [
    "# Constraint: Each lesson must be scheduled at least once\n",
    "def lesson_schedule_rule(model, l):\n",
    "    return sum(model.schedule[l, r, t] for r in classrooms for t in time_slots) >= 1\n",
    "model.lesson_schedule = Constraint(model.lessons, rule=lesson_schedule_rule)\n",
    "\n",
    "# Constraint: No more than one lesson in each classroom at each time slot\n",
    "def unique_lesson_schedule_constraint(model, r, t):\n",
    "    return sum(model.schedule[l, r, t] for l in model.lessons) <= 1\n",
    "model.unique_lesson_schedule = Constraint(classrooms, time_slots, rule=unique_lesson_schedule_constraint)\n",
    "\n",
    "# Constraint: Lessons must be scheduled for their required number of time slots\n",
    "def lesson_time_requirement_rule(model, l):\n",
    "    return sum(model.schedule[l, r, t] for r in classrooms for t in time_slots) == required_time_slots[l]\n",
    "model.lesson_time_requirement = Constraint(model.lessons, rule=lesson_time_requirement_rule)\n",
    "\n",
    "# Constraint: Lessons must be scheduled in the correct classroom (if specific)\n",
    "def correct_classroom_constraint(model, l, r, t):\n",
    "    lesson_classroom = lessons[l]['classroom']\n",
    "    if lesson_classroom != \"any\":\n",
    "        return model.schedule[l, r, t] == 0 if r != lesson_classroom else Constraint.Skip\n",
    "    return Constraint.Skip\n",
    "model.correct_classroom_constraint = Constraint(model.lessons, classrooms, time_slots, rule=correct_classroom_constraint)\n",
    "\n",
    "# Constraint: Ensure no cohort has overlapping lessons\n",
    "def cohort_overlap_rule(model, c, t):\n",
    "    lessons_for_cohort = cohort_lessons_mapping[c]\n",
    "    if not lessons_for_cohort:\n",
    "        return Constraint.Skip\n",
    "    scheduled_lessons_sum = sum(model.schedule[l, r, t] for l in lessons_for_cohort for r in classrooms)\n",
    "    if scheduled_lessons_sum.is_fixed():\n",
    "        return Constraint.Feasible if scheduled_lessons_sum() <= 1 else Constraint.Infeasible\n",
    "    else:\n",
    "        return scheduled_lessons_sum <= 1\n",
    "model.cohort_overlap = Constraint(model.cohorts, time_slots, rule=cohort_overlap_rule)"
   ]
  },
  {
   "attachments": {},
   "cell_type": "markdown",
   "metadata": {},
   "source": [
    "# Creating solver\n",
    "\n",
    "Here, I'm solving the optimization model using the GLPK (GNU Linear Programming Kit) solver. I've specified the solver to be used as 'glpk' and provided the path to the GLPSOL executable file. This command instructs Pyomo to utilize the GLPK solver to find the optimal solution for the defined mathematical model. The results of the optimization process are stored in the results variable."
   ]
  },
  {
   "cell_type": "code",
   "execution_count": 5,
   "metadata": {},
   "outputs": [],
   "source": [
    "\n",
    "\n"
   ]
  },
  {
   "attachments": {},
   "cell_type": "markdown",
   "metadata": {},
   "source": [
    "# Displaying the results"
   ]
  },
  {
   "cell_type": "code",
   "execution_count": 8,
   "metadata": {},
   "outputs": [
    {
     "name": "stdout",
     "output_type": "stream",
     "text": [
      "Solver terminated with optimal solution.\n",
      "Cohort: Future Innovators\n",
      "Monday Morning 09-11: Software Development Lab in Classroom: IT Lab\n",
      "Monday Morning 09-11: Computer Networks in Classroom: Advanced IT Lab\n",
      "Wednesday Morning 11-13: Software Development Lab in Classroom: IT Lab\n",
      "Wednesday Morning 11-13: Computer Networks in Classroom: Advanced IT Lab\n",
      "Wednesday Afternoon 14-16: Software Development Lab in Classroom: IT Lab\n",
      "Wednesday Afternoon 16-18: Foundational Mathematics in Classroom: Biology Lab\n",
      "Wednesday Afternoon 16-18: Data Science with Python in Classroom: IT Lab\n",
      "Thursday Morning 09-11: Data Science with Python in Classroom: IT Lab\n",
      "Thursday Morning 11-13: Foundational Mathematics in Classroom: Biology Lab\n",
      "Thursday Morning 11-13: Computer Networks in Classroom: Advanced IT Lab\n",
      "Thursday Morning 11-13: Data Science with Python in Classroom: IT Lab\n",
      "Thursday Afternoon 14-16: Foundational Mathematics in Classroom: Biology Lab\n",
      "Thursday Afternoon 14-16: Data Science with Python in Classroom: IT Lab\n",
      "Thursday Afternoon 16-18: Foundational Mathematics in Classroom: Biology Lab\n",
      "Thursday Afternoon 16-18: Software Development Lab in Classroom: IT Lab\n",
      "Wednesday Morning 09-11: Data Science with Python in Classroom: IT Lab\n",
      "\n",
      "----------------------------------------\n",
      "\n",
      "Cohort: Art and Design Pioneers\n",
      "Monday Morning 09-11: Digital Media Design in Classroom: Design Lab\n",
      "Monday Morning 09-11: 3D Art and Design in Classroom: Art Classroom\n",
      "Wednesday Morning 11-13: Digital Media Design in Classroom: Design Lab\n",
      "Wednesday Morning 11-13: 3D Art and Design in Classroom: Art Classroom\n",
      "Wednesday Afternoon 14-16: 3D Art and Design in Classroom: Art Classroom\n",
      "Wednesday Afternoon 14-16: Animation Techniques in Classroom: Fine Arts Studio\n",
      "Wednesday Afternoon 14-16: Architectural Design Fundamentals in Classroom: Design Lab\n",
      "Wednesday Afternoon 16-18: Animation Techniques in Classroom: Fine Arts Studio\n",
      "Wednesday Afternoon 16-18: Architectural Design Fundamentals in Classroom: Design Lab\n",
      "Thursday Morning 09-11: Digital Media Design in Classroom: Design Lab\n",
      "Thursday Morning 09-11: Animation Techniques in Classroom: Fine Arts Studio\n",
      "Friday Morning 09-11: Contemporary Art Practices in Classroom: Biology Lab\n",
      "Friday Afternoon 14-16: Contemporary Art Practices in Classroom: Biology Lab\n",
      "Monday Afternoon 16-18: Sculpture Techniques in Classroom: Fine Arts Studio\n",
      "Tuesday Morning 09-11: Sculpture Techniques in Classroom: Fine Arts Studio\n",
      "Tuesday Afternoon 14-16: Animation Techniques in Classroom: Fine Arts Studio\n",
      "Wednesday Morning 09-11: 3D Art and Design in Classroom: Art Classroom\n",
      "Wednesday Morning 09-11: Architectural Design Fundamentals in Classroom: Design Lab\n",
      "Wednesday Morning 09-11: Sculpture Techniques in Classroom: Fine Arts Studio\n",
      "\n",
      "----------------------------------------\n",
      "\n",
      "Cohort: Digital Media Creatives\n",
      "Monday Morning 09-11: Interactive Design Principles in Classroom: Digital Design Lab\n",
      "Monday Morning 09-11: Game Development Essentials in Classroom: Chemistry Lab\n",
      "Monday Morning 09-11: Game Development Essentials in Classroom: Biology Lab\n",
      "Wednesday Morning 11-13: Interactive Design Principles in Classroom: Digital Design Lab\n",
      "Wednesday Afternoon 14-16: Game Development Essentials in Classroom: Chemistry Lab\n",
      "Wednesday Afternoon 14-16: Digital Filmmaking in Classroom: Digital Design Lab\n",
      "Wednesday Afternoon 16-18: Digital Photography in Classroom: Art Classroom\n",
      "Wednesday Afternoon 16-18: Game Development Essentials in Classroom: Chemistry Lab\n",
      "Wednesday Afternoon 16-18: Digital Filmmaking in Classroom: Digital Design Lab\n",
      "Thursday Morning 09-11: Digital Filmmaking in Classroom: Digital Design Lab\n",
      "Thursday Morning 11-13: Interactive Design Principles in Classroom: Digital Design Lab\n",
      "Thursday Morning 11-13: Digital Photography in Classroom: Art Classroom\n",
      "Friday Afternoon 16-18: Web Technologies in Classroom: Biology Lab\n",
      "Monday Afternoon 14-16: Web Technologies in Classroom: Art Classroom\n",
      "Monday Afternoon 16-18: Web Technologies in Classroom: Art Classroom\n",
      "Tuesday Morning 09-11: Web Technologies in Classroom: Art Classroom\n",
      "Tuesday Morning 11-13: Web Technologies in Classroom: Art Classroom\n",
      "Tuesday Morning 11-13: Printmaking Workshop in Classroom: Fine Arts Studio\n",
      "Wednesday Morning 09-11: Printmaking Workshop in Classroom: Biology Lab\n",
      "Wednesday Morning 09-11: Digital Filmmaking in Classroom: Digital Design Lab\n",
      "\n",
      "----------------------------------------\n",
      "\n",
      "Cohort: Science and Environment Explorers\n",
      "Monday Morning 09-11: Music Production in Classroom: Music Classroom\n",
      "Wednesday Morning 11-13: Music Production in Classroom: Music Classroom\n",
      "Thursday Morning 09-11: Advanced Calculus in Classroom: Art Classroom\n",
      "Thursday Morning 09-11: Advanced Calculus in Classroom: Chemistry Lab\n",
      "Thursday Morning 09-11: Advanced Calculus in Classroom: Biology Lab\n",
      "Thursday Afternoon 14-16: General Sciences Overview in Classroom: Art Classroom\n",
      "Thursday Afternoon 16-18: General Sciences Overview in Classroom: Art Classroom\n",
      "Friday Morning 09-11: General Sciences Overview in Classroom: Art Classroom\n",
      "Friday Morning 11-13: General Sciences Overview in Classroom: Biology Lab\n",
      "Friday Morning 11-13: Machine Learning Basics in Classroom: Fine Arts Studio\n",
      "Friday Afternoon 14-16: Machine Learning Basics in Classroom: Fine Arts Studio\n",
      "Monday Morning 11-13: Machine Learning Basics in Classroom: Fine Arts Studio\n",
      "Friday Afternoon 16-18: Environmental Science in Classroom: Fine Arts Studio\n",
      "Monday Afternoon 14-16: Environmental Science in Classroom: Fine Arts Studio\n",
      "Tuesday Afternoon 14-16: Machine Learning Basics in Classroom: Biology Lab\n",
      "Tuesday Afternoon 16-18: Environmental Science in Classroom: Biology Lab\n",
      "Wednesday Morning 09-11: Music Production in Classroom: Music Classroom\n",
      "\n",
      "----------------------------------------\n",
      "\n"
     ]
    }
   ],
   "source": [
    "# Solve the model\n",
    "solver = SolverFactory('glpk', executable=r'C:\\ProgramData\\anaconda3\\Library\\bin\\glpsol.exe')\n",
    "results = solver.solve(model)\n",
    "\n",
    "if str(results.solver.termination_condition) == \"optimal\":\n",
    "    print(\"Solver terminated with optimal solution.\")\n",
    "    \n",
    "    # Prepare and display the scheduling results\n",
    "    lessons_to_cohorts = {}\n",
    "    for cohort in cohorts_data['cohorts']:\n",
    "        for lesson_code in cohort['lessons']:\n",
    "            if lesson_code not in lessons_to_cohorts:\n",
    "                lessons_to_cohorts[lesson_code] = []\n",
    "            lessons_to_cohorts[lesson_code].append(cohort['name'])\n",
    "\n",
    "    cohort_schedules = {cohort['name']: {} for cohort in cohorts_data['cohorts']}\n",
    "    for l in model.lessons:\n",
    "        for r in classrooms:\n",
    "            for t in time_slots:\n",
    "                if model.schedule[l, r, t].value == 1:\n",
    "                    lesson_name = lessons[l]['name']\n",
    "                    classroom_name = classroom_names[r]\n",
    "                    time_slot_period = time_slot_periods[t]\n",
    "                    for cohort_name in lessons_to_cohorts.get(l, []):\n",
    "                        if t not in cohort_schedules[cohort_name]:\n",
    "                            cohort_schedules[cohort_name][t] = []\n",
    "                        cohort_schedules[cohort_name][t].append((lesson_name, classroom_name, time_slot_period))\n",
    "\n",
    "    # Display the formatted schedule for each cohort\n",
    "    for cohort_name, schedule in cohort_schedules.items():\n",
    "        print(f\"Cohort: {cohort_name}\")\n",
    "        for time_slot, lessons in sorted(schedule.items(), key=lambda x: x[0]):\n",
    "            for lesson_detail in lessons:\n",
    "                lesson_name, classroom_name, time_slot_period = lesson_detail\n",
    "                print(f\"{time_slot_period}: {lesson_name} in Classroom: {classroom_name}\")\n",
    "        print(\"\\n\" + \"-\"*40 + \"\\n\")\n",
    "\n",
    "else:\n",
    "    print(\"Solver terminated with non-optimal solution.\")"
   ]
  },
  {
   "cell_type": "code",
   "execution_count": 10,
   "metadata": {},
   "outputs": [
    {
     "ename": "TypeError",
     "evalue": "write() argument must be str, not SolverResults",
     "output_type": "error",
     "traceback": [
      "\u001b[1;31m---------------------------------------------------------------------------\u001b[0m",
      "\u001b[1;31mTypeError\u001b[0m                                 Traceback (most recent call last)",
      "Cell \u001b[1;32mIn[10], line 31\u001b[0m\n\u001b[0;32m     29\u001b[0m \u001b[39m# Assuming you want to write to 'schedule_results.txt'\u001b[39;00m\n\u001b[0;32m     30\u001b[0m filename \u001b[39m=\u001b[39m \u001b[39m'\u001b[39m\u001b[39mschedule_results.txt\u001b[39m\u001b[39m'\u001b[39m\n\u001b[1;32m---> 31\u001b[0m write_results_to_file(results, filename)\n",
      "Cell \u001b[1;32mIn[10], line 15\u001b[0m, in \u001b[0;36mwrite_results_to_file\u001b[1;34m(results, filename)\u001b[0m\n\u001b[0;32m     12\u001b[0m \u001b[39m# Open the file in write mode or create it if it doesn't exist\u001b[39;00m\n\u001b[0;32m     13\u001b[0m \u001b[39mwith\u001b[39;00m \u001b[39mopen\u001b[39m(filename, \u001b[39m'\u001b[39m\u001b[39mw\u001b[39m\u001b[39m'\u001b[39m) \u001b[39mas\u001b[39;00m file:\n\u001b[0;32m     14\u001b[0m     \u001b[39m# Write the results to the file\u001b[39;00m\n\u001b[1;32m---> 15\u001b[0m     file\u001b[39m.\u001b[39;49mwrite(results)\n\u001b[0;32m     16\u001b[0m \u001b[39mprint\u001b[39m(\u001b[39mf\u001b[39m\u001b[39m\"\u001b[39m\u001b[39mResults successfully written to \u001b[39m\u001b[39m{\u001b[39;00mfilename\u001b[39m}\u001b[39;00m\u001b[39m\"\u001b[39m)\n",
      "\u001b[1;31mTypeError\u001b[0m: write() argument must be str, not SolverResults"
     ]
    }
   ],
   "source": [
    "def write_results_to_file(results, filename):\n",
    "    \"\"\"\n",
    "    Writes scheduling results to a text file.\n",
    "\n",
    "    Parameters:\n",
    "    results (str): The text containing the scheduling results.\n",
    "    filename (str): The name of the file where results should be written.\n",
    "\n",
    "    Returns:\n",
    "    None\n",
    "    \"\"\"\n",
    "    # Open the file in write mode or create it if it doesn't exist\n",
    "    with open(filename, 'w') as file:\n",
    "        # Write the results to the file\n",
    "        file.write(results)\n",
    "    print(f\"Results successfully written to {filename}\")\n",
    "\n",
    "# Example usage\n",
    "results_text = \"\"\"\n",
    "Cohort: Future Innovators\n",
    "Monday Morning 09-11: Software Development Lab in Classroom: IT Lab\n",
    "...\n",
    "----------------------------------------\n",
    "Cohort: Art and Design Pioneers\n",
    "Monday Morning 09-11: Digital Media Design in Classroom: Design Lab\n",
    "...\n",
    "\"\"\"\n",
    "\n",
    "# Assuming you want to write to 'schedule_results.txt'\n",
    "filename = 'schedule_results.txt'\n",
    "write_results_to_file(results, filename)\n"
   ]
  }
 ],
 "metadata": {
  "kernelspec": {
   "display_name": "Python 3",
   "language": "python",
   "name": "python3"
  },
  "language_info": {
   "codemirror_mode": {
    "name": "ipython",
    "version": 3
   },
   "file_extension": ".py",
   "mimetype": "text/x-python",
   "name": "python",
   "nbconvert_exporter": "python",
   "pygments_lexer": "ipython3",
   "version": "3.10.11"
  },
  "orig_nbformat": 4,
  "vscode": {
   "interpreter": {
    "hash": "f7619ee197185831a0b5594c76b796de54e44df3a04196bf85a1502c55af27dc"
   }
  }
 },
 "nbformat": 4,
 "nbformat_minor": 2
}
