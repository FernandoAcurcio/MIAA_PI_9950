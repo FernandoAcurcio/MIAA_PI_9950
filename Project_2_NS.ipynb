{
 "cells": [
  {
   "cell_type": "code",
   "execution_count": 1,
   "metadata": {},
   "outputs": [
    {
     "data": {
      "text/plain": [
       "{'Problem': [{'Name': 'unknown', 'Lower bound': 0.0, 'Upper bound': 0.0, 'Number of objectives': 1, 'Number of constraints': 1, 'Number of variables': 1, 'Number of nonzeros': 1, 'Sense': 'minimize'}], 'Solver': [{'Status': 'ok', 'Termination condition': 'optimal', 'Statistics': {'Branch and bound': {'Number of bounded subproblems': 0, 'Number of created subproblems': 0}}, 'Error rc': 0, 'Time': 0.02197575569152832}], 'Solution': [OrderedDict([('number of solutions', 0), ('number of solutions displayed', 0)])]}"
      ]
     },
     "execution_count": 1,
     "metadata": {},
     "output_type": "execute_result"
    }
   ],
   "source": [
    "from pyomo.environ import *\n",
    "\n",
    "# Create a model\n",
    "model = ConcreteModel()\n",
    "\n",
    "# Define sets\n",
    "# E.g. Rooms, Timeslots, Courses, Professors, Students\n",
    "model.Rooms = Set()\n",
    "model.Timeslots = Set()\n",
    "model.Courses = Set()\n",
    "model.Professors = Set()\n",
    "model.Students = Set()\n",
    "\n",
    "# Define variables\n",
    "# E.g. A binary variable for each room, timeslot, course, professor combination\n",
    "model.x = Var(model.Rooms, model.Timeslots, model.Courses, model.Professors, within=Binary)\n",
    "\n",
    "# Define objective\n",
    "# E.g. Minimize the total number of timeslots used\n",
    "def objective_rule(model):\n",
    "    return sum(model.x[r,t,c,p] for r in model.Rooms for t in model.Timeslots for c in model.Courses for p in model.Professors)\n",
    "model.objective = Objective(rule=objective_rule, sense=minimize)\n",
    "\n",
    "# Define constraints\n",
    "# E.g. Each course should be scheduled exactly once\n",
    "def course_constraint_rule(model, c):\n",
    "    return sum(model.x[r,t,c,p] for r in model.Rooms for t in model.Timeslots for p in model.Professors) == 1\n",
    "model.course_constraint = Constraint(model.Courses, rule=course_constraint_rule)\n",
    "\n",
    "# More constraints would be needed here...\n",
    "\n",
    "# Solve the model\n",
    "solver = SolverFactory('glpk')\n",
    "solver.solve(model)\n",
    "\n",
    "# Print the solution\n",
    "# You would need to add code here to print the solution in a nice format"
   ]
  }
 ],
 "metadata": {
  "kernelspec": {
   "display_name": "base",
   "language": "python",
   "name": "python3"
  },
  "language_info": {
   "codemirror_mode": {
    "name": "ipython",
    "version": 3
   },
   "file_extension": ".py",
   "mimetype": "text/x-python",
   "name": "python",
   "nbconvert_exporter": "python",
   "pygments_lexer": "ipython3",
   "version": "3.11.7"
  }
 },
 "nbformat": 4,
 "nbformat_minor": 2
}
